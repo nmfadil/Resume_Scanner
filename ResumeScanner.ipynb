{
 "cells": [
  {
   "cell_type": "code",
   "execution_count": 2,
   "id": "0ee0d7f0",
   "metadata": {},
   "outputs": [
    {
     "name": "stdout",
     "output_type": "stream",
     "text": [
      "Collecting docx2txt\n",
      "  Downloading docx2txt-0.8.tar.gz (2.8 kB)\n",
      "Building wheels for collected packages: docx2txt\n",
      "  Building wheel for docx2txt (setup.py): started\n",
      "  Building wheel for docx2txt (setup.py): finished with status 'done'\n",
      "  Created wheel for docx2txt: filename=docx2txt-0.8-py3-none-any.whl size=3980 sha256=6594df50c4ff5af04f823892e31d36f6e45f27adbbcb08b667c015dddc1f0f81\n",
      "  Stored in directory: c:\\users\\nmfad\\appdata\\local\\pip\\cache\\wheels\\40\\75\\01\\e6c444034338bde9c7947d3467807f889123465c2371e77418\n",
      "Successfully built docx2txt\n",
      "Installing collected packages: docx2txt\n",
      "Successfully installed docx2txt-0.8\n"
     ]
    }
   ],
   "source": [
    "!pip install docx2txt\n",
    "import docx2txt"
   ]
  },
  {
   "cell_type": "code",
   "execution_count": 10,
   "id": "12cf7d6b",
   "metadata": {},
   "outputs": [
    {
     "name": "stdout",
     "output_type": "stream",
     "text": [
      "Job brief\n",
      "\n",
      "We are looking for a Senior Web Developer to build and maintain functional web pages and applications.\n",
      "\n",
      "Senior Web Developer responsibilities include leading a team of junior developers, refining website specifications and resolving technical issues. To be successful in this role, you should have extensive experience building web pages from scratch and in-depth knowledge of at least one of the following programming languages: Javascript, Ruby or PHP.\n",
      "\n",
      "Ultimately, you will ensure our web pages are up and running and cover both internal and customer needs.\n",
      "\n",
      "Responsibilities\n",
      "\n",
      "Identify user and system requirements for new websites and applications\n",
      "\n",
      "Prioritize software development projects, set timelines and assign tasks to team members\n",
      "\n",
      "Create wireframes to decide on layout\n",
      "\n",
      "Write or review code for various applications\n",
      "\n",
      "Run functionality testings and debug code\n",
      "\n",
      "Oversee junior web developers and evaluate their performance\n",
      "\n",
      "Liaise with designers to decide on UI/UX elements (like graphics and navigation buttons)\n",
      "\n",
      "Ensure our software documentation is up-to-date\n",
      "\n",
      "Collaborate with mobile developers to build mobile-responsive websites\n",
      "\n",
      "Requirements\n",
      "\n",
      "Work experience as a Senior Web Developer\n",
      "\n",
      "Expertise in at least one programming language, preferably Javascript, Ruby or PHP\n",
      "\n",
      "Solid knowledge of HTML/CSS\n",
      "\n",
      "Experience with mockup and UI prototyping tools\n",
      "\n",
      "Understanding of security practices\n",
      "\n",
      "Familiarity with network diagnostics tools\n",
      "\n",
      "Team management skills\n",
      "\n",
      "BSc/MSc in Computer Science or relevant field\n"
     ]
    }
   ],
   "source": [
    "job_description = docx2txt.process('Sample Description of Resume.docx')\n",
    "resume = docx2txt.process('Sample Resume 1.docx')\n",
    "print(job_description)"
   ]
  },
  {
   "cell_type": "code",
   "execution_count": 8,
   "id": "77d257c1",
   "metadata": {},
   "outputs": [
    {
     "name": "stdout",
     "output_type": "stream",
     "text": [
      "[[1.         0.56826611]\n",
      " [0.56826611 1.        ]]\n"
     ]
    }
   ],
   "source": [
    "content = [job_description, resume]\n",
    "from sklearn.feature_extraction.text import CountVectorizer\n",
    "cv = CountVectorizer()\n",
    "count_matrix = cv.fit_transform(content)\n",
    "from sklearn.metrics.pairwise import cosine_similarity\n",
    "mat = cosine_similarity(count_matrix)\n",
    "print(mat)"
   ]
  },
  {
   "cell_type": "code",
   "execution_count": 9,
   "id": "4d4acc51",
   "metadata": {},
   "outputs": [
    {
     "name": "stdout",
     "output_type": "stream",
     "text": [
      "Resume Matches by: 56.82661125304872%\n"
     ]
    }
   ],
   "source": [
    "print('Resume Matches by: '+  str(mat[1][0]*100) + '%')"
   ]
  }
 ],
 "metadata": {
  "kernelspec": {
   "display_name": "Python 3 (ipykernel)",
   "language": "python",
   "name": "python3"
  },
  "language_info": {
   "codemirror_mode": {
    "name": "ipython",
    "version": 3
   },
   "file_extension": ".py",
   "mimetype": "text/x-python",
   "name": "python",
   "nbconvert_exporter": "python",
   "pygments_lexer": "ipython3",
   "version": "3.9.7"
  }
 },
 "nbformat": 4,
 "nbformat_minor": 5
}

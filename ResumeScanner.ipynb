{
 "cells": [
  {
   "cell_type": "code",
   "execution_count": 2,
   "id": "2912f65a",
   "metadata": {},
   "outputs": [
    {
     "name": "stdout",
     "output_type": "stream",
     "text": [
      "Collecting docx2txt\n",
      "  Downloading docx2txt-0.8.tar.gz (2.8 kB)\n",
      "Building wheels for collected packages: docx2txt\n",
      "  Building wheel for docx2txt (setup.py): started\n",
      "  Building wheel for docx2txt (setup.py): finished with status 'done'\n",
      "  Created wheel for docx2txt: filename=docx2txt-0.8-py3-none-any.whl size=3980 sha256=6594df50c4ff5af04f823892e31d36f6e45f27adbbcb08b667c015dddc1f0f81\n",
      "  Stored in directory: c:\\users\\nmfad\\appdata\\local\\pip\\cache\\wheels\\40\\75\\01\\e6c444034338bde9c7947d3467807f889123465c2371e77418\n",
      "Successfully built docx2txt\n",
      "Installing collected packages: docx2txt\n",
      "Successfully installed docx2txt-0.8\n"
     ]
    }
   ],
   "source": [
    "!pip install docx2txt\n",
    "import docx2txt"
   ]
  },
  {
   "cell_type": "code",
   "execution_count": 7,
   "id": "44de97f4",
   "metadata": {},
   "outputs": [
    {
     "name": "stdout",
     "output_type": "stream",
     "text": [
      "Summary\n",
      "\n",
      "Senior Web Developer specializing in front end development. Experienced with all stages of the development\n",
      "\n",
      "Skills Highlights\n",
      "\n",
      "Project management\n",
      "\n",
      "Strong decision maker\n",
      "\n",
      "Complex problem solver\n",
      "\n",
      "Creative Design\n",
      "\n",
      "Innovative\n",
      "\n",
      "Service-focused\n",
      "\n",
      "Experience\n",
      "\n",
      "Web Developer – 09/2015 to 05/2019\n",
      "\n",
      "Luna Web Design, New York\n",
      "\n",
      "Cooperate with designers to create clean interfaces and simple. Intuitive interactions and experiences.\n",
      "\n",
      "Develop project concepts and maintain optional workflow.\n",
      "\n",
      "Work with senior developer to manage large, complex design projects for corporate clients.\n",
      "\n",
      "Complete detailed programming and development tasks for front end and public and internal websites as well as challenging problems.\n",
      "\n",
      "Carry out quality assurance tests to discover errors and optimize usability.\n",
      "\n",
      "Education\n",
      "\n",
      "Bachelor of Science: Computer Information System – 2014\n",
      "\n",
      "Columbia University, NY\n",
      "\n",
      "Languages – C2\n",
      "\n",
      "Chinese – A1\n",
      "\n",
      "Certifications\n",
      "\n",
      "PHP Framework (certificate): Zend, Codeigniter, Symfony.\n",
      "\n",
      "Programming Languages: JavaScript, HTML5, PHP OOP, CSS, SQL, MySQL.\n",
      "\n",
      "Address:\n",
      "\n",
      "ABC, def, Ghi, jkl\n",
      "\n",
      "Phone:\n",
      "\n",
      "+xx xxxxx xxxxx\n",
      "\n",
      "Email:\n",
      "\n",
      "abcd456@xxxx.com\n"
     ]
    }
   ],
   "source": [
    "job_description = docx2txt.process('Sample Description of Resume.docx')\n",
    "resume = docx2txt.process('Sample Resume 1.docx')\n",
    "print(resume)"
   ]
  },
  {
   "cell_type": "code",
   "execution_count": 8,
   "id": "7d503e42",
   "metadata": {},
   "outputs": [
    {
     "name": "stdout",
     "output_type": "stream",
     "text": [
      "[[1.         0.56826611]\n",
      " [0.56826611 1.        ]]\n"
     ]
    }
   ],
   "source": [
    "content = [job_description, resume]\n",
    "from sklearn.feature_extraction.text import CountVectorizer\n",
    "cv = CountVectorizer()\n",
    "count_matrix = cv.fit_transform(content)\n",
    "from sklearn.metrics.pairwise import cosine_similarity\n",
    "mat = cosine_similarity(count_matrix)\n",
    "print(mat)"
   ]
  },
  {
   "cell_type": "code",
   "execution_count": 9,
   "id": "e878946b",
   "metadata": {},
   "outputs": [
    {
     "name": "stdout",
     "output_type": "stream",
     "text": [
      "Resume Matches by: 56.82661125304872%\n"
     ]
    }
   ],
   "source": [
    "print('Resume Matches by: '+  str(mat[1][0]*100) + '%')"
   ]
  }
 ],
 "metadata": {
  "kernelspec": {
   "display_name": "Python 3 (ipykernel)",
   "language": "python",
   "name": "python3"
  },
  "language_info": {
   "codemirror_mode": {
    "name": "ipython",
    "version": 3
   },
   "file_extension": ".py",
   "mimetype": "text/x-python",
   "name": "python",
   "nbconvert_exporter": "python",
   "pygments_lexer": "ipython3",
   "version": "3.9.7"
  }
 },
 "nbformat": 4,
 "nbformat_minor": 5
}
